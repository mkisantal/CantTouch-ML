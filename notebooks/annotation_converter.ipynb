{
 "cells": [
  {
   "cell_type": "markdown",
   "metadata": {},
   "source": [
    "## Annotation conversion\n",
    "\n",
    "\n",
    "I need to train hand and face detection. For that, I'm converting a hand keypoint training set (that also happens to include face bouncing boxes).\n",
    "\n",
    "\n",
    "Original dataset: http://domedb.perception.cs.cmu.edu/handdb.html\n",
    "\n",
    "Converting head and hand keypoint dataset to head&hands bounding boxes.\n",
    "\n",
    "Quick and dirty, sorry for that.\n",
    "\n",
    "Issues, todos:\n",
    " - not all image contains both right and left hand [SOLVED]\n",
    " - image might contain multiple people, annotation in separate files\n",
    " - number of keys: 9 the first labels, 7 for the latter. E.g. image file name is missing..."
   ]
  },
  {
   "cell_type": "markdown",
   "metadata": {},
   "source": [
    "### Darknet label format\n",
    "\n",
    "\n",
    "\"Now we need to generate the label files that Darknet uses. Darknet wants a .txt file for each image with a line for each ground truth object in the image that looks like:\n",
    "\n",
    "```<object-class> <x> <y> <width> <height>```\n",
    "\n",
    "Where x, y, width, and height are relative to the image's width and height.\"  https://pjreddie.com/darknet/yolo/"
   ]
  },
  {
   "cell_type": "code",
   "execution_count": null,
   "metadata": {},
   "outputs": [],
   "source": [
    "%matplotlib notebook\n",
    "import os\n",
    "from matplotlib import pyplot as plt\n",
    "import json\n",
    "import numpy as np"
   ]
  },
  {
   "cell_type": "code",
   "execution_count": null,
   "metadata": {},
   "outputs": [],
   "source": [
    "inpath = \"/home/ubuntu/data/hand_labels/manual_train/\"\n",
    "files = sorted([f for f in os.listdir(inpath) if f.endswith('.json')])\n",
    "files_left = sorted([f for f in os.listdir(inpath) if f.endswith('l.json')])\n",
    "files_right = sorted([f for f in os.listdir(inpath) if f.endswith('r.json')])"
   ]
  },
  {
   "cell_type": "code",
   "execution_count": null,
   "metadata": {},
   "outputs": [],
   "source": [
    "# both hands are not available for all samples\n",
    "\n",
    "i = 0\n",
    "f = files[i];\n",
    "\n",
    "dat_left, dat_right = None, None\n",
    "\n",
    "if (os.path.exists(inpath+f[0:-6]+'l.json')):\n",
    "    f_left = f[0:-6]+'l.json'\n",
    "    with open(inpath+f_left, 'r') as fid:\n",
    "        dat_left = json.load(fid)\n",
    "    \n",
    "if (os.path.exists(inpath+f[0:-6]+'r.json')):\n",
    "    f_right = f[0:-6]+'r.json'\n",
    "    with open(inpath+f_right, 'r') as fid:\n",
    "        dat_right = json.load(fid)"
   ]
  },
  {
   "cell_type": "code",
   "execution_count": null,
   "metadata": {},
   "outputs": [],
   "source": [
    "def get_boundingbox(points_dat):\n",
    "    points = np.array(points_dat)\n",
    "    x1 = points[:, 0].min()\n",
    "    x2 = points[:, 0].max()\n",
    "    y1 = points[:, 1].min()\n",
    "    y2 = points[:, 1].max()\n",
    "    return [x1, x2, x2, x1, x1], [y1, y1, y2, y2, y1]\n",
    "\n",
    "def get_yolo_params(points_dat, width, height):\n",
    "    points = np.array(points_dat)\n",
    "    x1 = points[:, 0].min()\n",
    "    x2 = points[:, 0].max()\n",
    "    y1 = points[:, 1].min()\n",
    "    y2 = points[:, 1].max()\n",
    "    \n",
    "    x = (x1 + x2) / 2 / width\n",
    "    y = (y1 + y2) / 2 / height\n",
    "    \n",
    "    rel_width = (x2 - x1) / width\n",
    "    rel_height = (y2 - y1) / height\n",
    "    \n",
    "    return x, y, rel_width, rel_height\n"
   ]
  },
  {
   "cell_type": "code",
   "execution_count": null,
   "metadata": {},
   "outputs": [],
   "source": [
    "im = plt.imread(inpath+f_left[0:-5]+'.jpg')\n",
    "\n",
    "fig = plt.figure(0)\n",
    "ax = fig.subplots(1)\n",
    "ax.imshow(im)\n",
    "height, width = im.shape[0], im.shape[1]\n",
    "head_drawn = False\n",
    "if dat_left is not None:\n",
    "    head_x, head_y = get_boundingbox(dat_left['head_box'])\n",
    "    print('Head: ', get_yolo_params(dat_left['head_box'], width, height))\n",
    "    hand_left_x, hand_left_y = get_boundingbox(dat_left['hand_pts'])\n",
    "    print('Left hand: ', get_yolo_params(dat_left['hand_pts'], width, height))\n",
    "\n",
    "    head_drawn = True\n",
    "    ax.plot(head_x, head_y)\n",
    "    ax.plot(hand_left_x, hand_left_y)\n",
    "\n",
    "    \n",
    "if dat_right is not None: \n",
    "    hand_right_x, hand_right_y = get_boundingbox(dat_right['hand_pts'])\n",
    "    print('Right hand: ', get_yolo_params(dat_right['hand_pts'], height, width))\n",
    "\n",
    "    ax.plot(hand_right_x, hand_right_y)\n",
    "    if not head_drawn:\n",
    "        head_x, head_y = get_boundingbox(dat_right['head_box'])\n",
    "        ax.plot(head_x, head_y)\n",
    "        \n",
    "\n",
    "\n",
    "\n",
    "\n"
   ]
  },
  {
   "cell_type": "markdown",
   "metadata": {},
   "source": [
    "### For now, only create annotation for images with a single person\n",
    "\n",
    "This is still 338 images for train."
   ]
  },
  {
   "cell_type": "code",
   "execution_count": null,
   "metadata": {
    "scrolled": true
   },
   "outputs": [],
   "source": [
    "files_restricted = sorted([f for f in os.listdir(inpath) if f.endswith('_01_l.json')])\n",
    "len(files_restricted)\n",
    "\n",
    "\n",
    "data_dir = \"/home/ubuntu/data/hand_labels/\"\n",
    "\n",
    "test_in_dir = \"/home/ubuntu/data/hand_labels/manual_test/\"\n",
    "\n",
    "train_out_dir = '/home/ubuntu/data/hand_labels/yolo_train/'\n",
    "test_out_dir = '/home/ubuntu/data/hand_labels/yolo_train/'\n",
    "\n",
    "for split in ['train', 'test']:\n",
    "    print('Converting {} ...'.format(split))\n",
    "    \n",
    "    in_dir = data_dir + 'manual_' + split + '/'\n",
    "    out_dir = data_dir + 'yolo_' + split + '/'\n",
    "    \n",
    "    files_restricted = sorted([f for f in os.listdir(in_dir) if f.endswith('_01_l.json')])\n",
    "    print('Converting ', len(files_restricted), ' samples.')\n",
    "    \n",
    "    if not os.path.exists(out_dir):\n",
    "        os.makedirs(out_dir)\n",
    "\n",
    "    image_paths = []\n",
    "\n",
    "    for idx, f in enumerate(files_restricted[:]):\n",
    "\n",
    "        name = '{:05d}'.format(idx)\n",
    "        print(name)\n",
    "\n",
    "        dat_left, dat_right = None, None\n",
    "\n",
    "        if (os.path.exists(in_dir+f[0:-6]+'l.json')):\n",
    "            f_left = f[0:-6]+'l.json'\n",
    "            with open(in_dir+f_left, 'r') as fid:\n",
    "                dat_left = json.load(fid)\n",
    "\n",
    "        if (os.path.exists(in_dir+f[0:-6]+'r.json')):\n",
    "            f_right = f[0:-6]+'r.json'\n",
    "            with open(in_dir+f_right, 'r') as fid:\n",
    "                dat_right = json.load(fid)\n",
    "\n",
    "        has_left = dat_left is not None\n",
    "\n",
    "        im = plt.imread(in_dir+(f_left[0:-5] if has_left else f_right[0:-5])+'.jpg')\n",
    "        plt.imsave(os.path.join(out_dir, name + '.jpg'), im)\n",
    "        image_paths.append(os.path.join(out_dir, name + '.jpg'))\n",
    "\n",
    "        height, width = im.shape[0], im.shape[1]\n",
    "\n",
    "        with open(os.path.join(out_dir, name + '.txt'), 'w') as label_file:\n",
    "            if has_left:\n",
    "                hx, hy, hw, hh = get_yolo_params(dat_left['head_box'], width, height)\n",
    "                lx, ly, lw, lh = get_yolo_params(dat_left['hand_pts'], width, height)\n",
    "                print(\"1 {} {} {} {}\".format(hx, hy, hw, hh), file=label_file)\n",
    "                print(\"2 {} {} {} {}\".format(lx, ly, lw, lh), file=label_file)\n",
    "\n",
    "\n",
    "            if dat_right is not None:\n",
    "                if not has_left:\n",
    "                    hx, hy, hw, hh = get_yolo_params(dat_right['head_box'], width, height)\n",
    "                    print(\"1 {} {} {} {}\".format(hx, hy, hw, hh), file=label_file)\n",
    "                rx, ry, rw, rh = get_yolo_params(dat_right['hand_pts'], width, height)\n",
    "                print(\"2 {} {} {} {}\".format(rx, ry, rw, rh), file=label_file)\n",
    "\n",
    "    with open(os.path.join(out_dir, '..', 'yolo_{}.txt'.format(split)), 'w') as f:\n",
    "        for line in image_paths:\n",
    "            print(line, file=f)\n",
    "\n"
   ]
  },
  {
   "cell_type": "code",
   "execution_count": null,
   "metadata": {},
   "outputs": [],
   "source": [
    "has_left = True\n",
    "has left?"
   ]
  },
  {
   "cell_type": "code",
   "execution_count": null,
   "metadata": {},
   "outputs": [],
   "source": [
    "os.listdir(out_dir)"
   ]
  },
  {
   "cell_type": "code",
   "execution_count": null,
   "metadata": {},
   "outputs": [],
   "source": []
  }
 ],
 "metadata": {
  "kernelspec": {
   "display_name": "Touch",
   "language": "python",
   "name": "touch"
  },
  "language_info": {
   "codemirror_mode": {
    "name": "ipython",
    "version": 3
   },
   "file_extension": ".py",
   "mimetype": "text/x-python",
   "name": "python",
   "nbconvert_exporter": "python",
   "pygments_lexer": "ipython3",
   "version": "3.6.6"
  }
 },
 "nbformat": 4,
 "nbformat_minor": 2
}
